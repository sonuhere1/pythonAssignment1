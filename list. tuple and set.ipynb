{
 "cells": [
  {
   "cell_type": "code",
   "execution_count": 1,
   "id": "9e962815-07e0-44dd-a7fe-b5c3cb653a97",
   "metadata": {},
   "outputs": [],
   "source": [
    "#least "
   ]
  },
  {
   "cell_type": "code",
   "execution_count": 7,
   "id": "e8e50139-74a5-4590-aa20-b4f3b5188d64",
   "metadata": {},
   "outputs": [],
   "source": [
    "l= [1,4,\"sonu\",1.512, 1+7j]"
   ]
  },
  {
   "cell_type": "code",
   "execution_count": 9,
   "id": "634246dd-e7b8-4f83-8929-018e45d7a922",
   "metadata": {},
   "outputs": [
    {
     "data": {
      "text/plain": [
       "type[[1, 4, 'sonu', 1.512, (1+7j)]]"
      ]
     },
     "execution_count": 9,
     "metadata": {},
     "output_type": "execute_result"
    }
   ],
   "source": [
    "type[l]"
   ]
  },
  {
   "cell_type": "code",
   "execution_count": 10,
   "id": "f78b2461-ceb8-4793-9077-be153ba90aa3",
   "metadata": {},
   "outputs": [
    {
     "data": {
      "text/plain": [
       "1.512"
      ]
     },
     "execution_count": 10,
     "metadata": {},
     "output_type": "execute_result"
    }
   ],
   "source": [
    "l[3]"
   ]
  },
  {
   "cell_type": "code",
   "execution_count": 11,
   "id": "6628c0f0-00f5-4157-8cae-f5b78b91bf04",
   "metadata": {},
   "outputs": [
    {
     "data": {
      "text/plain": [
       "[1, 4, 'sonu', 1.512, (1+7j)]"
      ]
     },
     "execution_count": 11,
     "metadata": {},
     "output_type": "execute_result"
    }
   ],
   "source": [
    "l"
   ]
  },
  {
   "cell_type": "code",
   "execution_count": 12,
   "id": "ed7f7c60-00fc-4961-8573-151875fb15f4",
   "metadata": {},
   "outputs": [
    {
     "data": {
      "text/plain": [
       "'sonu'"
      ]
     },
     "execution_count": 12,
     "metadata": {},
     "output_type": "execute_result"
    }
   ],
   "source": [
    "l[2]"
   ]
  },
  {
   "cell_type": "code",
   "execution_count": 14,
   "id": "61748852-f47a-4f17-8940-526d51625276",
   "metadata": {},
   "outputs": [
    {
     "data": {
      "text/plain": [
       "'so'"
      ]
     },
     "execution_count": 14,
     "metadata": {},
     "output_type": "execute_result"
    }
   ],
   "source": [
    "l[2][0:2]"
   ]
  },
  {
   "cell_type": "code",
   "execution_count": 15,
   "id": "50608963-4f73-4f68-b462-319bc90ba341",
   "metadata": {},
   "outputs": [
    {
     "data": {
      "text/plain": [
       "str"
      ]
     },
     "execution_count": 15,
     "metadata": {},
     "output_type": "execute_result"
    }
   ],
   "source": [
    "type(l[2])"
   ]
  },
  {
   "cell_type": "code",
   "execution_count": 17,
   "id": "1f13e581-a4fa-4d91-9d5c-433753e3815b",
   "metadata": {},
   "outputs": [],
   "source": [
    "l1 =[2,4,6]"
   ]
  },
  {
   "cell_type": "code",
   "execution_count": 18,
   "id": "45beb272-b38b-4381-a0fe-0bb98eed8eb5",
   "metadata": {},
   "outputs": [
    {
     "data": {
      "text/plain": [
       "[1, 4, 'sonu', 1.512, (1+7j), 2, 4, 6]"
      ]
     },
     "execution_count": 18,
     "metadata": {},
     "output_type": "execute_result"
    }
   ],
   "source": [
    "l+l1"
   ]
  },
  {
   "cell_type": "code",
   "execution_count": 19,
   "id": "67a89e17-1ded-4c4a-b20d-708d73af416f",
   "metadata": {},
   "outputs": [
    {
     "data": {
      "text/plain": [
       "5"
      ]
     },
     "execution_count": 19,
     "metadata": {},
     "output_type": "execute_result"
    }
   ],
   "source": [
    "len(l)"
   ]
  },
  {
   "cell_type": "code",
   "execution_count": 20,
   "id": "e1cc0273-dd21-46a3-a89c-acb405b00f3d",
   "metadata": {},
   "outputs": [
    {
     "data": {
      "text/plain": [
       "[1, 4, 'sonu', 1.512, (1+7j)]"
      ]
     },
     "execution_count": 20,
     "metadata": {},
     "output_type": "execute_result"
    }
   ],
   "source": [
    "l"
   ]
  },
  {
   "cell_type": "code",
   "execution_count": 21,
   "id": "68396329-0e36-40e0-9f79-e3630f8dc6dc",
   "metadata": {},
   "outputs": [
    {
     "data": {
      "text/plain": [
       "list"
      ]
     },
     "execution_count": 21,
     "metadata": {},
     "output_type": "execute_result"
    }
   ],
   "source": [
    "type(l)"
   ]
  },
  {
   "cell_type": "code",
   "execution_count": 22,
   "id": "64235c75-43f5-44b5-968c-8c137b419ef9",
   "metadata": {},
   "outputs": [
    {
     "data": {
      "text/plain": [
       "str"
      ]
     },
     "execution_count": 22,
     "metadata": {},
     "output_type": "execute_result"
    }
   ],
   "source": [
    "type(l[2])"
   ]
  },
  {
   "cell_type": "code",
   "execution_count": 23,
   "id": "e09a38f9-5470-4c39-9ab6-3cea27517003",
   "metadata": {},
   "outputs": [
    {
     "data": {
      "text/plain": [
       "5"
      ]
     },
     "execution_count": 23,
     "metadata": {},
     "output_type": "execute_result"
    }
   ],
   "source": [
    "len(l)"
   ]
  },
  {
   "cell_type": "code",
   "execution_count": 27,
   "id": "c423da57-a551-4e04-9280-be2a281f126a",
   "metadata": {},
   "outputs": [],
   "source": [
    "l1= [2, 5, 9]"
   ]
  },
  {
   "cell_type": "code",
   "execution_count": 28,
   "id": "fe38ea43-238e-4e81-9d87-bb96a30f90ea",
   "metadata": {},
   "outputs": [
    {
     "data": {
      "text/plain": [
       "[1, 4, 'sonu', 1.512, (1+7j), 2, 5, 9]"
      ]
     },
     "execution_count": 28,
     "metadata": {},
     "output_type": "execute_result"
    }
   ],
   "source": [
    "l+l1"
   ]
  },
  {
   "cell_type": "code",
   "execution_count": 31,
   "id": "b3c8e87e-595c-4449-8e28-5c42063b9a93",
   "metadata": {},
   "outputs": [
    {
     "data": {
      "text/plain": [
       "5"
      ]
     },
     "execution_count": 31,
     "metadata": {},
     "output_type": "execute_result"
    }
   ],
   "source": [
    "len(l)"
   ]
  },
  {
   "cell_type": "code",
   "execution_count": 33,
   "id": "60839388-5794-43de-ab54-fe5ecd7f0206",
   "metadata": {},
   "outputs": [],
   "source": [
    "l.append(l1)"
   ]
  },
  {
   "cell_type": "code",
   "execution_count": 34,
   "id": "f455d259-0e9f-43d1-a9da-e9276556af62",
   "metadata": {},
   "outputs": [
    {
     "data": {
      "text/plain": [
       "[2, 5, 9]"
      ]
     },
     "execution_count": 34,
     "metadata": {},
     "output_type": "execute_result"
    }
   ],
   "source": [
    "l1"
   ]
  },
  {
   "cell_type": "code",
   "execution_count": 38,
   "id": "20971abb-0405-4e9f-b34e-638501ac585c",
   "metadata": {},
   "outputs": [],
   "source": [
    "l.append(l1)"
   ]
  },
  {
   "cell_type": "code",
   "execution_count": 39,
   "id": "7ffe9747-da31-4646-a618-a2fad25b6007",
   "metadata": {},
   "outputs": [
    {
     "data": {
      "text/plain": [
       "[1,\n",
       " 4,\n",
       " 'sonu',\n",
       " 1.512,\n",
       " (1+7j),\n",
       " [2, 5, 9],\n",
       " [2, 5, 9],\n",
       " [2, 5, 9],\n",
       " [2, 5, 9],\n",
       " [2, 5, 9],\n",
       " [2, 5, 9]]"
      ]
     },
     "execution_count": 39,
     "metadata": {},
     "output_type": "execute_result"
    }
   ],
   "source": [
    "l"
   ]
  },
  {
   "cell_type": "code",
   "execution_count": 40,
   "id": "13a8816b-1593-4427-ad43-3edc2cd27e34",
   "metadata": {},
   "outputs": [],
   "source": [
    "l.extend(\"sonu\")"
   ]
  },
  {
   "cell_type": "code",
   "execution_count": 41,
   "id": "e579c886-58e1-46f8-91c0-02fee401db68",
   "metadata": {},
   "outputs": [
    {
     "data": {
      "text/plain": [
       "[1,\n",
       " 4,\n",
       " 'sonu',\n",
       " 1.512,\n",
       " (1+7j),\n",
       " [2, 5, 9],\n",
       " [2, 5, 9],\n",
       " [2, 5, 9],\n",
       " [2, 5, 9],\n",
       " [2, 5, 9],\n",
       " [2, 5, 9],\n",
       " 's',\n",
       " 'o',\n",
       " 'n',\n",
       " 'u']"
      ]
     },
     "execution_count": 41,
     "metadata": {},
     "output_type": "execute_result"
    }
   ],
   "source": [
    "l"
   ]
  },
  {
   "cell_type": "code",
   "execution_count": 42,
   "id": "1aa8c476-1252-4b80-b0f5-b3e534a9c7fe",
   "metadata": {},
   "outputs": [],
   "source": [
    "l.extend([1,2,4])"
   ]
  },
  {
   "cell_type": "code",
   "execution_count": 43,
   "id": "7000e092-418d-4f32-bb29-f445f6f35352",
   "metadata": {},
   "outputs": [
    {
     "data": {
      "text/plain": [
       "[1,\n",
       " 4,\n",
       " 'sonu',\n",
       " 1.512,\n",
       " (1+7j),\n",
       " [2, 5, 9],\n",
       " [2, 5, 9],\n",
       " [2, 5, 9],\n",
       " [2, 5, 9],\n",
       " [2, 5, 9],\n",
       " [2, 5, 9],\n",
       " 's',\n",
       " 'o',\n",
       " 'n',\n",
       " 'u',\n",
       " 1,\n",
       " 2,\n",
       " 4]"
      ]
     },
     "execution_count": 43,
     "metadata": {},
     "output_type": "execute_result"
    }
   ],
   "source": [
    "l"
   ]
  },
  {
   "cell_type": "code",
   "execution_count": 44,
   "id": "29d5b460-39a2-4de5-9f9f-db5b78d32a46",
   "metadata": {},
   "outputs": [],
   "source": [
    "l.insert(0,23)"
   ]
  },
  {
   "cell_type": "code",
   "execution_count": 45,
   "id": "974433c8-a420-469c-807d-70e69f4c527e",
   "metadata": {},
   "outputs": [
    {
     "data": {
      "text/plain": [
       "[23,\n",
       " 1,\n",
       " 4,\n",
       " 'sonu',\n",
       " 1.512,\n",
       " (1+7j),\n",
       " [2, 5, 9],\n",
       " [2, 5, 9],\n",
       " [2, 5, 9],\n",
       " [2, 5, 9],\n",
       " [2, 5, 9],\n",
       " [2, 5, 9],\n",
       " 's',\n",
       " 'o',\n",
       " 'n',\n",
       " 'u',\n",
       " 1,\n",
       " 2,\n",
       " 4]"
      ]
     },
     "execution_count": 45,
     "metadata": {},
     "output_type": "execute_result"
    }
   ],
   "source": [
    "l"
   ]
  },
  {
   "cell_type": "code",
   "execution_count": 48,
   "id": "d7466e49-f2c6-4fae-bcec-8834782ac269",
   "metadata": {},
   "outputs": [],
   "source": [
    "#for add using append, extend,insert"
   ]
  },
  {
   "cell_type": "code",
   "execution_count": 49,
   "id": "52e7f94c-3048-40b0-9971-38b053abf8f2",
   "metadata": {},
   "outputs": [
    {
     "data": {
      "text/plain": [
       "4"
      ]
     },
     "execution_count": 49,
     "metadata": {},
     "output_type": "execute_result"
    }
   ],
   "source": [
    "l.pop()"
   ]
  },
  {
   "cell_type": "code",
   "execution_count": 50,
   "id": "ef881f7a-3474-48c4-9fdc-5eab3867ac3c",
   "metadata": {},
   "outputs": [
    {
     "data": {
      "text/plain": [
       "[23,\n",
       " 1,\n",
       " 4,\n",
       " 'sonu',\n",
       " 1.512,\n",
       " (1+7j),\n",
       " [2, 5, 9],\n",
       " [2, 5, 9],\n",
       " [2, 5, 9],\n",
       " [2, 5, 9],\n",
       " [2, 5, 9],\n",
       " [2, 5, 9],\n",
       " 's',\n",
       " 'o',\n",
       " 'n',\n",
       " 'u',\n",
       " 1,\n",
       " 2]"
      ]
     },
     "execution_count": 50,
     "metadata": {},
     "output_type": "execute_result"
    }
   ],
   "source": [
    "l"
   ]
  },
  {
   "cell_type": "code",
   "execution_count": 51,
   "id": "4f1a18fe-846c-409a-8a54-5c0ed763bf4d",
   "metadata": {},
   "outputs": [
    {
     "data": {
      "text/plain": [
       "'sonu'"
      ]
     },
     "execution_count": 51,
     "metadata": {},
     "output_type": "execute_result"
    }
   ],
   "source": [
    "l.pop(3)"
   ]
  },
  {
   "cell_type": "code",
   "execution_count": 52,
   "id": "f4352ec1-c2cd-4439-9fc5-451f705f05fd",
   "metadata": {},
   "outputs": [
    {
     "data": {
      "text/plain": [
       "[23,\n",
       " 1,\n",
       " 4,\n",
       " 1.512,\n",
       " (1+7j),\n",
       " [2, 5, 9],\n",
       " [2, 5, 9],\n",
       " [2, 5, 9],\n",
       " [2, 5, 9],\n",
       " [2, 5, 9],\n",
       " [2, 5, 9],\n",
       " 's',\n",
       " 'o',\n",
       " 'n',\n",
       " 'u',\n",
       " 1,\n",
       " 2]"
      ]
     },
     "execution_count": 52,
     "metadata": {},
     "output_type": "execute_result"
    }
   ],
   "source": [
    "l"
   ]
  },
  {
   "cell_type": "code",
   "execution_count": 54,
   "id": "560a5d44-ba90-437d-a856-6ab473dbe8cb",
   "metadata": {},
   "outputs": [
    {
     "data": {
      "text/plain": [
       "[2, 5, 9]"
      ]
     },
     "execution_count": 54,
     "metadata": {},
     "output_type": "execute_result"
    }
   ],
   "source": [
    "l.pop(5)"
   ]
  },
  {
   "cell_type": "code",
   "execution_count": 55,
   "id": "41402321-3684-4b76-9ce0-1115128c388c",
   "metadata": {},
   "outputs": [
    {
     "data": {
      "text/plain": [
       "[23,\n",
       " 1,\n",
       " 4,\n",
       " 1.512,\n",
       " (1+7j),\n",
       " [2, 5, 9],\n",
       " [2, 5, 9],\n",
       " [2, 5, 9],\n",
       " [2, 5, 9],\n",
       " 's',\n",
       " 'o',\n",
       " 'n',\n",
       " 'u',\n",
       " 1,\n",
       " 2]"
      ]
     },
     "execution_count": 55,
     "metadata": {},
     "output_type": "execute_result"
    }
   ],
   "source": [
    "l"
   ]
  },
  {
   "cell_type": "code",
   "execution_count": 57,
   "id": "40f7257f-5f7c-4ce1-88fa-1168871e199d",
   "metadata": {},
   "outputs": [
    {
     "data": {
      "text/plain": [
       "[2, 5, 9]"
      ]
     },
     "execution_count": 57,
     "metadata": {},
     "output_type": "execute_result"
    }
   ],
   "source": [
    "l.pop(5)"
   ]
  },
  {
   "cell_type": "code",
   "execution_count": 58,
   "id": "d626ca48-bdd1-4b83-9277-0c2582abfd2f",
   "metadata": {},
   "outputs": [
    {
     "data": {
      "text/plain": [
       "[2, 5, 9]"
      ]
     },
     "execution_count": 58,
     "metadata": {},
     "output_type": "execute_result"
    }
   ],
   "source": [
    "l.pop(5)"
   ]
  },
  {
   "cell_type": "code",
   "execution_count": 59,
   "id": "a47cd02d-8801-4319-af3f-2caea7c5f62f",
   "metadata": {},
   "outputs": [
    {
     "data": {
      "text/plain": [
       "[2, 5, 9]"
      ]
     },
     "execution_count": 59,
     "metadata": {},
     "output_type": "execute_result"
    }
   ],
   "source": [
    "l.pop(5)"
   ]
  },
  {
   "cell_type": "code",
   "execution_count": 60,
   "id": "135d1a97-bc0d-4286-bde0-8042a0f6bdc2",
   "metadata": {},
   "outputs": [
    {
     "data": {
      "text/plain": [
       "[23, 1, 4, 1.512, (1+7j), 's', 'o', 'n', 'u', 1, 2]"
      ]
     },
     "execution_count": 60,
     "metadata": {},
     "output_type": "execute_result"
    }
   ],
   "source": [
    "l"
   ]
  },
  {
   "cell_type": "code",
   "execution_count": 61,
   "id": "8e4e4925-c337-4400-bfa3-04d842d1c995",
   "metadata": {},
   "outputs": [
    {
     "data": {
      "text/plain": [
       "[23, 1, 4, 1.512, (1+7j), 's', 'o', 'n', 'u', 1, 2, 2, 5, 9]"
      ]
     },
     "execution_count": 61,
     "metadata": {},
     "output_type": "execute_result"
    }
   ],
   "source": [
    "l+l1"
   ]
  },
  {
   "cell_type": "code",
   "execution_count": 62,
   "id": "135994e1-15e1-4c74-a7f7-f6cee7bcd04d",
   "metadata": {},
   "outputs": [
    {
     "data": {
      "text/plain": [
       "[23, 1, 4, 1.512, (1+7j), 's', 'o', 'n', 'u', 1, 2]"
      ]
     },
     "execution_count": 62,
     "metadata": {},
     "output_type": "execute_result"
    }
   ],
   "source": [
    "l"
   ]
  },
  {
   "cell_type": "code",
   "execution_count": 63,
   "id": "daed3712-ae20-46cd-be90-9f4048ad94e8",
   "metadata": {},
   "outputs": [],
   "source": [
    "l.append(l1)"
   ]
  },
  {
   "cell_type": "code",
   "execution_count": 64,
   "id": "910fdf0d-e8b6-4713-9dcb-d0bacc4ec2e2",
   "metadata": {},
   "outputs": [
    {
     "data": {
      "text/plain": [
       "[23, 1, 4, 1.512, (1+7j), 's', 'o', 'n', 'u', 1, 2, [2, 5, 9]]"
      ]
     },
     "execution_count": 64,
     "metadata": {},
     "output_type": "execute_result"
    }
   ],
   "source": [
    "l"
   ]
  },
  {
   "cell_type": "code",
   "execution_count": 69,
   "id": "82efee8c-f9fe-4158-8e6c-b2095d7e842d",
   "metadata": {},
   "outputs": [],
   "source": [
    "l2 = [1 , 6 , 9 , 3 , 8 , 2 , 5]"
   ]
  },
  {
   "cell_type": "code",
   "execution_count": 71,
   "id": "a66465df-0805-4884-83b4-a8ef17c3dced",
   "metadata": {},
   "outputs": [
    {
     "ename": "AttributeError",
     "evalue": "'list' object has no attribute 'short'",
     "output_type": "error",
     "traceback": [
      "\u001b[0;31m---------------------------------------------------------------------------\u001b[0m",
      "\u001b[0;31mAttributeError\u001b[0m                            Traceback (most recent call last)",
      "Cell \u001b[0;32mIn[71], line 1\u001b[0m\n\u001b[0;32m----> 1\u001b[0m \u001b[43ml2\u001b[49m\u001b[38;5;241;43m.\u001b[39;49m\u001b[43mshort\u001b[49m()\n",
      "\u001b[0;31mAttributeError\u001b[0m: 'list' object has no attribute 'short'"
     ]
    }
   ],
   "source": [
    "l2.short()"
   ]
  },
  {
   "cell_type": "code",
   "execution_count": 72,
   "id": "b92e8223-cb6c-4271-b323-0c1d080f5d7c",
   "metadata": {},
   "outputs": [
    {
     "data": {
      "text/plain": [
       "[1, 6, 9, 3, 8, 2, 5]"
      ]
     },
     "execution_count": 72,
     "metadata": {},
     "output_type": "execute_result"
    }
   ],
   "source": [
    "l2"
   ]
  },
  {
   "cell_type": "code",
   "execution_count": 74,
   "id": "e9dfd80b-12ad-45aa-91f3-6c7e6b0843f5",
   "metadata": {},
   "outputs": [
    {
     "ename": "AttributeError",
     "evalue": "'list' object has no attribute 'short'",
     "output_type": "error",
     "traceback": [
      "\u001b[0;31m---------------------------------------------------------------------------\u001b[0m",
      "\u001b[0;31mAttributeError\u001b[0m                            Traceback (most recent call last)",
      "Cell \u001b[0;32mIn[74], line 1\u001b[0m\n\u001b[0;32m----> 1\u001b[0m \u001b[43ml2\u001b[49m\u001b[38;5;241;43m.\u001b[39;49m\u001b[43mshort\u001b[49m()\n",
      "\u001b[0;31mAttributeError\u001b[0m: 'list' object has no attribute 'short'"
     ]
    }
   ],
   "source": [
    "l2.short()"
   ]
  },
  {
   "cell_type": "code",
   "execution_count": 76,
   "id": "5b12610a-f1e8-4799-938b-f0e570a6c477",
   "metadata": {},
   "outputs": [
    {
     "data": {
      "text/plain": [
       "6"
      ]
     },
     "execution_count": 76,
     "metadata": {},
     "output_type": "execute_result"
    }
   ],
   "source": [
    "l2.index(5)"
   ]
  },
  {
   "cell_type": "code",
   "execution_count": 79,
   "id": "1accf8a0-a0bc-46c2-9cb3-11b945d566fc",
   "metadata": {},
   "outputs": [],
   "source": [
    "t = ( 2, 2.3, 'sonu', 4+7j , [1, 3 , 6] )"
   ]
  },
  {
   "cell_type": "code",
   "execution_count": 81,
   "id": "9a401e96-64c2-46bb-95e3-3d0d33fe5b8b",
   "metadata": {},
   "outputs": [
    {
     "data": {
      "text/plain": [
       "([1, 3, 6], (4+7j), 'sonu', 2.3, 2)"
      ]
     },
     "execution_count": 81,
     "metadata": {},
     "output_type": "execute_result"
    }
   ],
   "source": [
    "t[::-1]"
   ]
  },
  {
   "cell_type": "code",
   "execution_count": 93,
   "id": "553954e0-a156-4436-8b39-e1ab9f1e2c69",
   "metadata": {},
   "outputs": [
    {
     "data": {
      "text/plain": [
       "2"
      ]
     },
     "execution_count": 93,
     "metadata": {},
     "output_type": "execute_result"
    }
   ],
   "source": [
    "t.index('sonu')"
   ]
  },
  {
   "cell_type": "code",
   "execution_count": 85,
   "id": "75e5638d-09d2-4dc6-9ece-3d7625912af1",
   "metadata": {},
   "outputs": [
    {
     "data": {
      "text/plain": [
       "(2, 2.3, 'sonu', (4+7j), [1, 3, 6])"
      ]
     },
     "execution_count": 85,
     "metadata": {},
     "output_type": "execute_result"
    }
   ],
   "source": [
    "t"
   ]
  },
  {
   "cell_type": "code",
   "execution_count": 86,
   "id": "fb1c5822-b60d-4359-b217-e039fb0fcd7b",
   "metadata": {},
   "outputs": [
    {
     "data": {
      "text/plain": [
       "0"
      ]
     },
     "execution_count": 86,
     "metadata": {},
     "output_type": "execute_result"
    }
   ],
   "source": [
    "t.count(50)"
   ]
  },
  {
   "cell_type": "code",
   "execution_count": 91,
   "id": "3d96283f-b152-44dd-a2ca-ab380b20148a",
   "metadata": {},
   "outputs": [
    {
     "data": {
      "text/plain": [
       "2"
      ]
     },
     "execution_count": 91,
     "metadata": {},
     "output_type": "execute_result"
    }
   ],
   "source": [
    "t.index('sonu')"
   ]
  },
  {
   "cell_type": "code",
   "execution_count": 94,
   "id": "df217e79-8fa2-45bc-b547-d31c7ccc94cb",
   "metadata": {},
   "outputs": [],
   "source": [
    "s1 = { }"
   ]
  },
  {
   "cell_type": "code",
   "execution_count": 95,
   "id": "fa4e9268-8cdb-486d-a164-2a7d3bf44da7",
   "metadata": {},
   "outputs": [
    {
     "data": {
      "text/plain": [
       "dict"
      ]
     },
     "execution_count": 95,
     "metadata": {},
     "output_type": "execute_result"
    }
   ],
   "source": [
    "type(s1)"
   ]
  },
  {
   "cell_type": "code",
   "execution_count": 96,
   "id": "0fc80675-dcf8-4e42-8632-ad6ddfbc8127",
   "metadata": {},
   "outputs": [],
   "source": [
    "s2 = {2,4, 8, 0}"
   ]
  },
  {
   "cell_type": "code",
   "execution_count": 97,
   "id": "db8424be-8f32-4ac2-ad67-075cd6257ed8",
   "metadata": {},
   "outputs": [
    {
     "data": {
      "text/plain": [
       "set"
      ]
     },
     "execution_count": 97,
     "metadata": {},
     "output_type": "execute_result"
    }
   ],
   "source": [
    "type(s2)"
   ]
  },
  {
   "cell_type": "code",
   "execution_count": 101,
   "id": "a8c763a6-e712-4bfb-80e2-c6ae64d38123",
   "metadata": {},
   "outputs": [],
   "source": [
    "s3 = { 3, 7.78, 8+8j, 'sonu',(1, 3 , 7)}"
   ]
  },
  {
   "cell_type": "code",
   "execution_count": 102,
   "id": "09d28ec5-cc30-4047-892e-1418c0ffb9f8",
   "metadata": {},
   "outputs": [
    {
     "data": {
      "text/plain": [
       "{(1, 3, 7), (8+8j), 3, 7.78, 'sonu'}"
      ]
     },
     "execution_count": 102,
     "metadata": {},
     "output_type": "execute_result"
    }
   ],
   "source": [
    "s3"
   ]
  },
  {
   "cell_type": "code",
   "execution_count": null,
   "id": "281f4027-8d91-4b4e-be39-be1de417b1e5",
   "metadata": {},
   "outputs": [],
   "source": []
  },
  {
   "cell_type": "code",
   "execution_count": 107,
   "id": "3dbdbbbf-8095-46ba-8aa8-e0a8b9894245",
   "metadata": {},
   "outputs": [],
   "source": [
    "s4 ={1,1,2,2,25,5,6,6,8,8,9,9,4}"
   ]
  },
  {
   "cell_type": "code",
   "execution_count": 108,
   "id": "d8a0aeda-3199-4aca-978d-b7dcba9120b0",
   "metadata": {},
   "outputs": [
    {
     "data": {
      "text/plain": [
       "{1, 2, 4, 5, 6, 8, 9, 25}"
      ]
     },
     "execution_count": 108,
     "metadata": {},
     "output_type": "execute_result"
    }
   ],
   "source": [
    "s4"
   ]
  },
  {
   "cell_type": "code",
   "execution_count": 109,
   "id": "f13e2f76-4d97-4b63-9384-49d0ead0cbc5",
   "metadata": {},
   "outputs": [],
   "source": [
    "# Build an unordered collection of unique elements."
   ]
  },
  {
   "cell_type": "code",
   "execution_count": 110,
   "id": "db35e5b3-e6cc-4920-9989-3f58342c3908",
   "metadata": {},
   "outputs": [],
   "source": [
    "s5 ={ 2,234,454, 789, 9, 98, 'sonu',432}"
   ]
  },
  {
   "cell_type": "code",
   "execution_count": 112,
   "id": "9a2f0b05-2c66-46ac-871c-074cbe9129fa",
   "metadata": {},
   "outputs": [
    {
     "data": {
      "text/plain": [
       "{2, 234, 432, 454, 789, 9, 98, 'sonu'}"
      ]
     },
     "execution_count": 112,
     "metadata": {},
     "output_type": "execute_result"
    }
   ],
   "source": [
    "s5"
   ]
  },
  {
   "cell_type": "code",
   "execution_count": null,
   "id": "a4213552-c442-4279-a3ec-13fdb8612ec7",
   "metadata": {},
   "outputs": [],
   "source": []
  }
 ],
 "metadata": {
  "kernelspec": {
   "display_name": "Python 3 (ipykernel)",
   "language": "python",
   "name": "python3"
  },
  "language_info": {
   "codemirror_mode": {
    "name": "ipython",
    "version": 3
   },
   "file_extension": ".py",
   "mimetype": "text/x-python",
   "name": "python",
   "nbconvert_exporter": "python",
   "pygments_lexer": "ipython3",
   "version": "3.10.8"
  }
 },
 "nbformat": 4,
 "nbformat_minor": 5
}
